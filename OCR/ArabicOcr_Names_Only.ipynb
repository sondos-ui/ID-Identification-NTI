{
  "nbformat": 4,
  "nbformat_minor": 0,
  "metadata": {
    "colab": {
      "provenance": [],
      "gpuType": "T4"
    },
    "kernelspec": {
      "name": "python3",
      "display_name": "Python 3"
    },
    "language_info": {
      "name": "python"
    },
    "accelerator": "GPU",
    "gpuClass": "standard"
  },
  "cells": [
    {
      "cell_type": "markdown",
      "source": [
        "## Extractng First and last name from the Egyptian NID"
      ],
      "metadata": {
        "id": "fx84CgvM2HFD"
      }
    },
    {
      "cell_type": "markdown",
      "source": [
        "### Imports and Instaling"
      ],
      "metadata": {
        "id": "5ZXpk-lb2jVg"
      }
    },
    {
      "cell_type": "code",
      "source": [
        "! pip install pytesseract"
      ],
      "metadata": {
        "colab": {
          "base_uri": "https://localhost:8080/"
        },
        "id": "i_WguQ_pZBHh",
        "outputId": "504c224a-5786-4a3a-e28f-614e50ada35f"
      },
      "execution_count": 2,
      "outputs": [
        {
          "output_type": "stream",
          "name": "stdout",
          "text": [
            "Looking in indexes: https://pypi.org/simple, https://us-python.pkg.dev/colab-wheels/public/simple/\n",
            "Collecting pytesseract\n",
            "  Downloading pytesseract-0.3.10-py3-none-any.whl (14 kB)\n",
            "Requirement already satisfied: packaging>=21.3 in /usr/local/lib/python3.10/dist-packages (from pytesseract) (23.1)\n",
            "Requirement already satisfied: Pillow>=8.0.0 in /usr/local/lib/python3.10/dist-packages (from pytesseract) (8.4.0)\n",
            "Installing collected packages: pytesseract\n",
            "Successfully installed pytesseract-0.3.10\n"
          ]
        }
      ]
    },
    {
      "cell_type": "code",
      "source": [
        "!sudo apt-get install tesseract-ocr"
      ],
      "metadata": {
        "colab": {
          "base_uri": "https://localhost:8080/"
        },
        "id": "QFomwB8fZiE4",
        "outputId": "5ccd686d-7561-48f5-a937-d56ca2eec0d8"
      },
      "execution_count": 3,
      "outputs": [
        {
          "output_type": "stream",
          "name": "stdout",
          "text": [
            "Reading package lists... Done\n",
            "Building dependency tree       \n",
            "Reading state information... Done\n",
            "The following additional packages will be installed:\n",
            "  tesseract-ocr-eng tesseract-ocr-osd\n",
            "The following NEW packages will be installed:\n",
            "  tesseract-ocr tesseract-ocr-eng tesseract-ocr-osd\n",
            "0 upgraded, 3 newly installed, 0 to remove and 24 not upgraded.\n",
            "Need to get 4,850 kB of archives.\n",
            "After this operation, 16.3 MB of additional disk space will be used.\n",
            "Get:1 http://archive.ubuntu.com/ubuntu focal/universe amd64 tesseract-ocr-eng all 1:4.00~git30-7274cfa-1 [1,598 kB]\n",
            "Get:2 http://archive.ubuntu.com/ubuntu focal/universe amd64 tesseract-ocr-osd all 1:4.00~git30-7274cfa-1 [2,990 kB]\n",
            "Get:3 http://archive.ubuntu.com/ubuntu focal/universe amd64 tesseract-ocr amd64 4.1.1-2build2 [262 kB]\n",
            "Fetched 4,850 kB in 1s (3,370 kB/s)\n",
            "debconf: unable to initialize frontend: Dialog\n",
            "debconf: (No usable dialog-like program is installed, so the dialog based frontend cannot be used. at /usr/share/perl5/Debconf/FrontEnd/Dialog.pm line 76, <> line 3.)\n",
            "debconf: falling back to frontend: Readline\n",
            "debconf: unable to initialize frontend: Readline\n",
            "debconf: (This frontend requires a controlling tty.)\n",
            "debconf: falling back to frontend: Teletype\n",
            "dpkg-preconfigure: unable to re-open stdin: \n",
            "Selecting previously unselected package tesseract-ocr-eng.\n",
            "(Reading database ... 122531 files and directories currently installed.)\n",
            "Preparing to unpack .../tesseract-ocr-eng_1%3a4.00~git30-7274cfa-1_all.deb ...\n",
            "Unpacking tesseract-ocr-eng (1:4.00~git30-7274cfa-1) ...\n",
            "Selecting previously unselected package tesseract-ocr-osd.\n",
            "Preparing to unpack .../tesseract-ocr-osd_1%3a4.00~git30-7274cfa-1_all.deb ...\n",
            "Unpacking tesseract-ocr-osd (1:4.00~git30-7274cfa-1) ...\n",
            "Selecting previously unselected package tesseract-ocr.\n",
            "Preparing to unpack .../tesseract-ocr_4.1.1-2build2_amd64.deb ...\n",
            "Unpacking tesseract-ocr (4.1.1-2build2) ...\n",
            "Setting up tesseract-ocr-eng (1:4.00~git30-7274cfa-1) ...\n",
            "Setting up tesseract-ocr-osd (1:4.00~git30-7274cfa-1) ...\n",
            "Setting up tesseract-ocr (4.1.1-2build2) ...\n",
            "Processing triggers for man-db (2.9.1-1) ...\n"
          ]
        }
      ]
    },
    {
      "cell_type": "code",
      "source": [
        "!sudo apt-get install tesseract-ocr-ara  #for arabic"
      ],
      "metadata": {
        "colab": {
          "base_uri": "https://localhost:8080/"
        },
        "id": "oVhYLkdp2--a",
        "outputId": "4f552ed8-0698-4cbb-c9dd-50a346abd3cb"
      },
      "execution_count": 28,
      "outputs": [
        {
          "output_type": "stream",
          "name": "stdout",
          "text": [
            "Reading package lists... Done\n",
            "Building dependency tree       \n",
            "Reading state information... Done\n",
            "tesseract-ocr-ara is already the newest version (1:4.00~git30-7274cfa-1).\n",
            "0 upgraded, 0 newly installed, 0 to remove and 24 not upgraded.\n"
          ]
        }
      ]
    },
    {
      "cell_type": "code",
      "source": [
        "from ArabicOcr import arabicocr\n",
        "import pytesseract\n",
        "from pytesseract import Output\n",
        "from google.colab.patches import cv2_imshow\n",
        "import cv2\n",
        "import numpy as np"
      ],
      "metadata": {
        "id": "X4QvT6AC_oo_"
      },
      "execution_count": 4,
      "outputs": []
    },
    {
      "cell_type": "code",
      "source": [
        "from google.colab import drive\n",
        "drive.mount(\"/content/gdrive\")"
      ],
      "metadata": {
        "id": "emL1Z90tb3LL",
        "colab": {
          "base_uri": "https://localhost:8080/"
        },
        "outputId": "6e1f3137-9e91-4831-a8f5-a6c5ba11b1f2"
      },
      "execution_count": 5,
      "outputs": [
        {
          "output_type": "stream",
          "name": "stdout",
          "text": [
            "Mounted at /content/gdrive\n"
          ]
        }
      ]
    },
    {
      "cell_type": "code",
      "source": [
        "import os\n",
        "from os import listdir\n",
        "from os.path import isfile, join\n",
        "\n",
        "img_paths = {} #Images paths \n",
        "img_names = [] #Images names\n",
        "\n",
        "for root, dirs, files in os.walk(\"/content/gdrive/MyDrive/NTI-Project/Original ID\"):\n",
        "   path = root.split(os.sep)\n",
        "   for index, file in enumerate(files):\n",
        "      img_names = [ f for f in listdir(root) if isfile(join(root,f)) ]\n",
        "      img_paths[index] = join(root,img_names[index])"
      ],
      "metadata": {
        "id": "faATvX_Rg4q_"
      },
      "execution_count": 6,
      "outputs": []
    },
    {
      "cell_type": "code",
      "source": [
        "#img_paths\n",
        "#img_names"
      ],
      "metadata": {
        "id": "G6m__evElFt_"
      },
      "execution_count": 7,
      "outputs": []
    },
    {
      "cell_type": "code",
      "source": [
        "from PIL import Image\n",
        "from pathlib import Path"
      ],
      "metadata": {
        "id": "af8zxbeSmkDN"
      },
      "execution_count": 8,
      "outputs": []
    },
    {
      "cell_type": "code",
      "source": [
        "firstname_box  = (465,165, 995,233)   #Dimentions of the first name in the origibal ID\n",
        "lastname_box   = (465,230, 995,310)   #Dimentions of the last name in the origibal ID\n",
        "nid_box        = (430,475 , 1020,575) #Dimentions of the national ID number name in the origibal ID\n",
        "\n",
        "for i in range(len(img_paths)):\n",
        "  img = Image.open(img_paths[i])\n",
        "  \n",
        "  #Crop the first name, last name and ID to different pictures\n",
        "  firstname = img.crop(firstname_box)\n",
        "  lastname  = img.crop(lastname_box)\n",
        "  nid       = img.crop(nid_box)\n",
        "\n",
        "  #Save cropped pictures\n",
        "  firstname_path = \"/content/gdrive/MyDrive/NTI-Project/First Names/\" +  img_names[i] #Save the cropped first name in this path\n",
        "  firstname.save(firstname_path) \n",
        "\n",
        "  lastname_path = \"/content/gdrive/MyDrive/NTI-Project/Last Names/\" +  img_names[i] #Save the cropped first name in this path\n",
        "  lastname.save(lastname_path)\n",
        "\n",
        "  nid_path = \"/content/gdrive/MyDrive/NTI-Project/National ID/\" +  img_names[i] #Save the cropped first name in this path\n",
        "  nid.save(nid_path) "
      ],
      "metadata": {
        "id": "LIc8swfpvB-M"
      },
      "execution_count": 9,
      "outputs": []
    },
    {
      "cell_type": "code",
      "source": [
        "def get_paths_images(folder_name):\n",
        "  img_paths = {} #Images paths \n",
        "  img_names = [] #Images names\n",
        "\n",
        "  folder = \"/content/gdrive/MyDrive/NTI-Project/\" + folder_name\n",
        "  for root, dirs, files in os.walk(folder):\n",
        "    path = root.split(os.sep)\n",
        "    for index, file in enumerate(files):\n",
        "        img_names = [ f for f in listdir(root) if isfile(join(root,f)) ]\n",
        "        img_paths[index] = join(root,img_names[index])\n",
        "    \n",
        "    return img_paths, img_names"
      ],
      "metadata": {
        "id": "C1kXDWZ7Vc2k"
      },
      "execution_count": 10,
      "outputs": []
    },
    {
      "cell_type": "code",
      "source": [
        "last_names  = []\n",
        "\n",
        "img_paths, img_names = get_paths_images('Last Names')\n",
        "  \n",
        "for i in range(len(img_paths)):\n",
        "  #Read the image \n",
        "  image = cv2.imread(img_paths[i])\n",
        "    \n",
        "  #Preprocessing\n",
        "  image_gray = cv2.cvtColor(image, cv2.COLOR_BGR2GRAY)\n",
        "  (first_thresh, first_blackAndWhite) = cv2.threshold(image_gray, 100, 255, cv2.THRESH_BINARY)\n",
        "\n",
        "    \n",
        "  #Extract and append info\n",
        "  extracted_info = pytesseract.image_to_string(first_blackAndWhite, lang='ara') \n",
        "  last_names.append(extracted_info[:-2])"
      ],
      "metadata": {
        "id": "fY14hXLszHY3"
      },
      "execution_count": 13,
      "outputs": []
    },
    {
      "cell_type": "code",
      "source": [
        "last_names"
      ],
      "metadata": {
        "id": "4VwiVyWP6Ore",
        "colab": {
          "base_uri": "https://localhost:8080/"
        },
        "outputId": "9eb586d6-8ebd-4f16-8b99-082346efad4f"
      },
      "execution_count": 14,
      "outputs": [
        {
          "output_type": "execute_result",
          "data": {
            "text/plain": [
              "['',\n",
              " 'عياش حكيم قعقاع',\n",
              " 'عراد حسنين تغلب',\n",
              " 'هريرة معاذ سلمة',\n",
              " 'منصور فارس مطر',\n",
              " 'حسين حمدان ساجع',\n",
              " 'حزام حمدان مبروك',\n",
              " 'أمين فتيح عاطف',\n",
              " 'عقلة ساطع كنان',\n",
              " 'شبيب ساطع حميد']"
            ]
          },
          "metadata": {},
          "execution_count": 14
        }
      ]
    },
    {
      "cell_type": "code",
      "source": [
        "#If we applied tesseract on first names it doesn't get good accuracy at all\n",
        "temp  = []\n",
        "\n",
        "img_paths, img_names = get_paths_images('First Names')\n",
        "  \n",
        "for i in range(len(img_paths)):\n",
        "  #Read the image \n",
        "  image = cv2.imread(img_paths[i])\n",
        "    \n",
        "  #Preprocessing\n",
        "  image_gray = cv2.cvtColor(image, cv2.COLOR_BGR2GRAY)\n",
        "  (first_thresh, first_blackAndWhite) = cv2.threshold(image_gray, 100, 255, cv2.THRESH_BINARY)\n",
        "\n",
        "    \n",
        "  #Extract and append info\n",
        "  extracted_info = pytesseract.image_to_string(first_blackAndWhite, lang='ara') \n",
        "  temp.append(extracted_info[:-2])\n",
        "\n",
        "temp"
      ],
      "metadata": {
        "colab": {
          "base_uri": "https://localhost:8080/"
        },
        "id": "meQscGhaz-Ic",
        "outputId": "da0b4358-2b11-42ec-9dde-fc666eb935a7"
      },
      "execution_count": 19,
      "outputs": [
        {
          "output_type": "execute_result",
          "data": {
            "text/plain": [
              "['', '', '', '', '', '', '', 'عبدالبصير', 'نهيان', '']"
            ]
          },
          "metadata": {},
          "execution_count": 19
        }
      ]
    },
    {
      "cell_type": "code",
      "source": [
        "!pip install ArabicOcr"
      ],
      "metadata": {
        "colab": {
          "base_uri": "https://localhost:8080/"
        },
        "id": "YmD0Nzbl2N7R",
        "outputId": "896fc229-3992-4b5a-9a38-838a45d94541"
      },
      "execution_count": 27,
      "outputs": [
        {
          "output_type": "stream",
          "name": "stdout",
          "text": [
            "Looking in indexes: https://pypi.org/simple, https://us-python.pkg.dev/colab-wheels/public/simple/\n",
            "Requirement already satisfied: ArabicOcr in /usr/local/lib/python3.10/dist-packages (1.1.6)\n",
            "Requirement already satisfied: easyocr in /usr/local/lib/python3.10/dist-packages (from ArabicOcr) (1.6.2)\n",
            "Requirement already satisfied: torch in /usr/local/lib/python3.10/dist-packages (from easyocr->ArabicOcr) (2.0.1+cu118)\n",
            "Requirement already satisfied: torchvision>=0.5 in /usr/local/lib/python3.10/dist-packages (from easyocr->ArabicOcr) (0.15.2+cu118)\n",
            "Requirement already satisfied: opencv-python-headless<=4.5.4.60 in /usr/local/lib/python3.10/dist-packages (from easyocr->ArabicOcr) (4.5.4.60)\n",
            "Requirement already satisfied: scipy in /usr/local/lib/python3.10/dist-packages (from easyocr->ArabicOcr) (1.10.1)\n",
            "Requirement already satisfied: numpy in /usr/local/lib/python3.10/dist-packages (from easyocr->ArabicOcr) (1.22.4)\n",
            "Requirement already satisfied: Pillow in /usr/local/lib/python3.10/dist-packages (from easyocr->ArabicOcr) (8.4.0)\n",
            "Requirement already satisfied: scikit-image in /usr/local/lib/python3.10/dist-packages (from easyocr->ArabicOcr) (0.19.3)\n",
            "Requirement already satisfied: python-bidi in /usr/local/lib/python3.10/dist-packages (from easyocr->ArabicOcr) (0.4.2)\n",
            "Requirement already satisfied: PyYAML in /usr/local/lib/python3.10/dist-packages (from easyocr->ArabicOcr) (6.0)\n",
            "Requirement already satisfied: Shapely in /usr/local/lib/python3.10/dist-packages (from easyocr->ArabicOcr) (2.0.1)\n",
            "Requirement already satisfied: pyclipper in /usr/local/lib/python3.10/dist-packages (from easyocr->ArabicOcr) (1.3.0.post4)\n",
            "Requirement already satisfied: ninja in /usr/local/lib/python3.10/dist-packages (from easyocr->ArabicOcr) (1.11.1)\n",
            "Requirement already satisfied: requests in /usr/local/lib/python3.10/dist-packages (from torchvision>=0.5->easyocr->ArabicOcr) (2.27.1)\n",
            "Requirement already satisfied: filelock in /usr/local/lib/python3.10/dist-packages (from torch->easyocr->ArabicOcr) (3.12.0)\n",
            "Requirement already satisfied: typing-extensions in /usr/local/lib/python3.10/dist-packages (from torch->easyocr->ArabicOcr) (4.5.0)\n",
            "Requirement already satisfied: sympy in /usr/local/lib/python3.10/dist-packages (from torch->easyocr->ArabicOcr) (1.11.1)\n",
            "Requirement already satisfied: networkx in /usr/local/lib/python3.10/dist-packages (from torch->easyocr->ArabicOcr) (3.1)\n",
            "Requirement already satisfied: jinja2 in /usr/local/lib/python3.10/dist-packages (from torch->easyocr->ArabicOcr) (3.1.2)\n",
            "Requirement already satisfied: triton==2.0.0 in /usr/local/lib/python3.10/dist-packages (from torch->easyocr->ArabicOcr) (2.0.0)\n",
            "Requirement already satisfied: cmake in /usr/local/lib/python3.10/dist-packages (from triton==2.0.0->torch->easyocr->ArabicOcr) (3.25.2)\n",
            "Requirement already satisfied: lit in /usr/local/lib/python3.10/dist-packages (from triton==2.0.0->torch->easyocr->ArabicOcr) (16.0.5)\n",
            "Requirement already satisfied: six in /usr/local/lib/python3.10/dist-packages (from python-bidi->easyocr->ArabicOcr) (1.16.0)\n",
            "Requirement already satisfied: imageio>=2.4.1 in /usr/local/lib/python3.10/dist-packages (from scikit-image->easyocr->ArabicOcr) (2.25.1)\n",
            "Requirement already satisfied: tifffile>=2019.7.26 in /usr/local/lib/python3.10/dist-packages (from scikit-image->easyocr->ArabicOcr) (2023.4.12)\n",
            "Requirement already satisfied: PyWavelets>=1.1.1 in /usr/local/lib/python3.10/dist-packages (from scikit-image->easyocr->ArabicOcr) (1.4.1)\n",
            "Requirement already satisfied: packaging>=20.0 in /usr/local/lib/python3.10/dist-packages (from scikit-image->easyocr->ArabicOcr) (23.1)\n",
            "Requirement already satisfied: MarkupSafe>=2.0 in /usr/local/lib/python3.10/dist-packages (from jinja2->torch->easyocr->ArabicOcr) (2.1.2)\n",
            "Requirement already satisfied: urllib3<1.27,>=1.21.1 in /usr/local/lib/python3.10/dist-packages (from requests->torchvision>=0.5->easyocr->ArabicOcr) (1.26.15)\n",
            "Requirement already satisfied: certifi>=2017.4.17 in /usr/local/lib/python3.10/dist-packages (from requests->torchvision>=0.5->easyocr->ArabicOcr) (2022.12.7)\n",
            "Requirement already satisfied: charset-normalizer~=2.0.0 in /usr/local/lib/python3.10/dist-packages (from requests->torchvision>=0.5->easyocr->ArabicOcr) (2.0.12)\n",
            "Requirement already satisfied: idna<4,>=2.5 in /usr/local/lib/python3.10/dist-packages (from requests->torchvision>=0.5->easyocr->ArabicOcr) (3.4)\n",
            "Requirement already satisfied: mpmath>=0.19 in /usr/local/lib/python3.10/dist-packages (from sympy->torch->easyocr->ArabicOcr) (1.3.0)\n"
          ]
        }
      ]
    },
    {
      "cell_type": "code",
      "source": [
        "#We'll try arabicocr then\n",
        "\n",
        "first_names = []\n",
        "img_paths, img_names = get_paths_images(\"First Names\")\n",
        "\n",
        "for i in range(len(img_paths)):\n",
        "\tout_image = 'out.jpg'\n",
        "\tresults = arabicocr.arabic_ocr(img_paths[i],out_image)\n",
        "\tfirst_names.append(results[0][-2])"
      ],
      "metadata": {
        "id": "-70RislmoD4L",
        "colab": {
          "base_uri": "https://localhost:8080/"
        },
        "outputId": "5b9b11f6-75ae-4483-c59b-491d98cb7049"
      },
      "execution_count": 23,
      "outputs": [
        {
          "output_type": "stream",
          "name": "stderr",
          "text": [
            "WARNING:easyocr.easyocr:Using CPU. Note: This module is much faster with a GPU.\n"
          ]
        },
        {
          "output_type": "stream",
          "name": "stdout",
          "text": [
            "[INFO] OCR'ing input image...\n"
          ]
        },
        {
          "output_type": "stream",
          "name": "stderr",
          "text": [
            "WARNING:easyocr.easyocr:Using CPU. Note: This module is much faster with a GPU.\n"
          ]
        },
        {
          "output_type": "stream",
          "name": "stdout",
          "text": [
            "[INFO] 0.9963: لبانة\n",
            "[INFO] OCR'ing input image...\n"
          ]
        },
        {
          "output_type": "stream",
          "name": "stderr",
          "text": [
            "WARNING:easyocr.easyocr:Using CPU. Note: This module is much faster with a GPU.\n"
          ]
        },
        {
          "output_type": "stream",
          "name": "stdout",
          "text": [
            "[INFO] 0.4064: رفيف\n",
            "[INFO] OCR'ing input image...\n"
          ]
        },
        {
          "output_type": "stream",
          "name": "stderr",
          "text": [
            "WARNING:easyocr.easyocr:Using CPU. Note: This module is much faster with a GPU.\n"
          ]
        },
        {
          "output_type": "stream",
          "name": "stdout",
          "text": [
            "[INFO] 0.8943: ناشئة\n",
            "[INFO] OCR'ing input image...\n"
          ]
        },
        {
          "output_type": "stream",
          "name": "stderr",
          "text": [
            "WARNING:easyocr.easyocr:Using CPU. Note: This module is much faster with a GPU.\n"
          ]
        },
        {
          "output_type": "stream",
          "name": "stdout",
          "text": [
            "[INFO] 0.7163: بيان\n",
            "[INFO] OCR'ing input image...\n"
          ]
        },
        {
          "output_type": "stream",
          "name": "stderr",
          "text": [
            "WARNING:easyocr.easyocr:Using CPU. Note: This module is much faster with a GPU.\n"
          ]
        },
        {
          "output_type": "stream",
          "name": "stdout",
          "text": [
            "[INFO] 0.9909: جمانة\n",
            "[INFO] OCR'ing input image...\n"
          ]
        },
        {
          "output_type": "stream",
          "name": "stderr",
          "text": [
            "WARNING:easyocr.easyocr:Using CPU. Note: This module is much faster with a GPU.\n"
          ]
        },
        {
          "output_type": "stream",
          "name": "stdout",
          "text": [
            "[INFO] 0.8943: منيرة\n",
            "[INFO] OCR'ing input image...\n"
          ]
        },
        {
          "output_type": "stream",
          "name": "stderr",
          "text": [
            "WARNING:easyocr.easyocr:Using CPU. Note: This module is much faster with a GPU.\n"
          ]
        },
        {
          "output_type": "stream",
          "name": "stdout",
          "text": [
            "[INFO] 0.7851: مجير\n",
            "[INFO] OCR'ing input image...\n"
          ]
        },
        {
          "output_type": "stream",
          "name": "stderr",
          "text": [
            "WARNING:easyocr.easyocr:Using CPU. Note: This module is much faster with a GPU.\n"
          ]
        },
        {
          "output_type": "stream",
          "name": "stdout",
          "text": [
            "[INFO] 0.9998: عبد\n",
            "[INFO] 0.7167: البصير\n",
            "[INFO] OCR'ing input image...\n"
          ]
        },
        {
          "output_type": "stream",
          "name": "stderr",
          "text": [
            "WARNING:easyocr.easyocr:Using CPU. Note: This module is much faster with a GPU.\n"
          ]
        },
        {
          "output_type": "stream",
          "name": "stdout",
          "text": [
            "[INFO] 0.7263: نهيان\n",
            "[INFO] OCR'ing input image...\n",
            "[INFO] 0.9916: فتيح\n"
          ]
        }
      ]
    },
    {
      "cell_type": "code",
      "source": [
        "first_names "
      ],
      "metadata": {
        "id": "zokSSh6lodR6",
        "colab": {
          "base_uri": "https://localhost:8080/"
        },
        "outputId": "df028483-819e-4d7f-c30e-1963eef78ce5"
      },
      "execution_count": 24,
      "outputs": [
        {
          "output_type": "execute_result",
          "data": {
            "text/plain": [
              "['لبانة',\n",
              " 'رفيف',\n",
              " 'ناشئة',\n",
              " 'بيان',\n",
              " 'جمانة',\n",
              " 'منيرة',\n",
              " 'مجير',\n",
              " 'عبد',\n",
              " 'نهيان',\n",
              " 'فتيح']"
            ]
          },
          "metadata": {},
          "execution_count": 24
        }
      ]
    },
    {
      "cell_type": "code",
      "source": [
        "#Now we can combine names to be a full name\n",
        "\n",
        "full_names = []\n",
        "for i in range(len(first_names)):\n",
        "  fullname = first_names[i] + \" \" + last_names[i]\n",
        "  full_names.append(fullname)"
      ],
      "metadata": {
        "id": "tXuqtTilYBBd"
      },
      "execution_count": 25,
      "outputs": []
    },
    {
      "cell_type": "code",
      "source": [
        "full_names # Almost Perfecto!"
      ],
      "metadata": {
        "id": "QTkwv79pYqm7",
        "colab": {
          "base_uri": "https://localhost:8080/"
        },
        "outputId": "18d85985-6cee-4b33-9186-37f1170fe978"
      },
      "execution_count": 26,
      "outputs": [
        {
          "output_type": "execute_result",
          "data": {
            "text/plain": [
              "['لبانة ',\n",
              " 'رفيف عياش حكيم قعقاع',\n",
              " 'ناشئة عراد حسنين تغلب',\n",
              " 'بيان هريرة معاذ سلمة',\n",
              " 'جمانة منصور فارس مطر',\n",
              " 'منيرة حسين حمدان ساجع',\n",
              " 'مجير حزام حمدان مبروك',\n",
              " 'عبد أمين فتيح عاطف',\n",
              " 'نهيان عقلة ساطع كنان',\n",
              " 'فتيح شبيب ساطع حميد']"
            ]
          },
          "metadata": {},
          "execution_count": 26
        }
      ]
    },
    {
      "cell_type": "code",
      "source": [
        "nid = []\n",
        "img_paths, img_names = get_paths_images(\"National ID\")\n",
        "\n",
        "for i in range(len(img_paths)):\n",
        "\timg = cv2.imread(img_paths[i], cv2.IMREAD_COLOR)\n",
        "\t\n",
        "\tid_gray = cv2.cvtColor(img, cv2.COLOR_BGR2GRAY)\n",
        "\tout_image='out.jpg'\n",
        "\n",
        "\tresults = arabicocr.arabic_ocr(img_paths[i],out_image)\n",
        "\tnid.append(results)"
      ],
      "metadata": {
        "id": "46nAkx9ENeT3"
      },
      "execution_count": null,
      "outputs": []
    },
    {
      "cell_type": "code",
      "source": [],
      "metadata": {
        "id": "kD6rk5egkXBU"
      },
      "execution_count": null,
      "outputs": []
    },
    {
      "cell_type": "code",
      "source": [
        "#Before preprocessing\n",
        "from google.colab.patches import cv2_imshow\n",
        "import cv2\n",
        "img = cv2.imread('out.jpg', cv2.IMREAD_UNCHANGED)\n",
        "cv2_imshow(img)"
      ],
      "metadata": {
        "id": "Cxw17VEiOhhE"
      },
      "execution_count": null,
      "outputs": []
    }
  ]
}